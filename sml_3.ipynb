{
  "nbformat": 4,
  "nbformat_minor": 0,
  "metadata": {
    "colab": {
      "provenance": []
    },
    "kernelspec": {
      "name": "python3",
      "display_name": "Python 3"
    },
    "language_info": {
      "name": "python"
    }
  },
  "cells": [
    {
      "cell_type": "markdown",
      "source": [
        "question-1\n",
        "find out the maximum likelihood parameters values for california_housing['latitude','total_rooms','house_median_age',total_bedrooms']data,each column individually"
      ],
      "metadata": {
        "id": "SvVg9GLAXOe1"
      }
    },
    {
      "cell_type": "code",
      "execution_count": 4,
      "metadata": {
        "colab": {
          "base_uri": "https://localhost:8080/"
        },
        "id": "fkCTMQbBBG9L",
        "outputId": "1d9c057a-3d46-414f-9b5d-8812df05571d"
      },
      "outputs": [
        {
          "output_type": "stream",
          "name": "stdout",
          "text": [
            "       longitude  latitude  housing_median_age  total_rooms  total_bedrooms  \\\n",
            "0        -122.23     37.88                41.0        880.0           129.0   \n",
            "1        -122.22     37.86                21.0       7099.0          1106.0   \n",
            "2        -122.24     37.85                52.0       1467.0           190.0   \n",
            "3        -122.25     37.85                52.0       1274.0           235.0   \n",
            "4        -122.25     37.85                52.0       1627.0           280.0   \n",
            "...          ...       ...                 ...          ...             ...   \n",
            "20635    -121.09     39.48                25.0       1665.0           374.0   \n",
            "20636    -121.21     39.49                18.0        697.0           150.0   \n",
            "20637    -121.22     39.43                17.0       2254.0           485.0   \n",
            "20638    -121.32     39.43                18.0       1860.0           409.0   \n",
            "20639    -121.24     39.37                16.0       2785.0           616.0   \n",
            "\n",
            "       population  households  median_income  median_house_value  \\\n",
            "0           322.0       126.0         8.3252            452600.0   \n",
            "1          2401.0      1138.0         8.3014            358500.0   \n",
            "2           496.0       177.0         7.2574            352100.0   \n",
            "3           558.0       219.0         5.6431            341300.0   \n",
            "4           565.0       259.0         3.8462            342200.0   \n",
            "...           ...         ...            ...                 ...   \n",
            "20635       845.0       330.0         1.5603             78100.0   \n",
            "20636       356.0       114.0         2.5568             77100.0   \n",
            "20637      1007.0       433.0         1.7000             92300.0   \n",
            "20638       741.0       349.0         1.8672             84700.0   \n",
            "20639      1387.0       530.0         2.3886             89400.0   \n",
            "\n",
            "      ocean_proximity  \n",
            "0            NEAR BAY  \n",
            "1            NEAR BAY  \n",
            "2            NEAR BAY  \n",
            "3            NEAR BAY  \n",
            "4            NEAR BAY  \n",
            "...               ...  \n",
            "20635          INLAND  \n",
            "20636          INLAND  \n",
            "20637          INLAND  \n",
            "20638          INLAND  \n",
            "20639          INLAND  \n",
            "\n",
            "[20640 rows x 10 columns]\n"
          ]
        }
      ],
      "source": [
        "import pandas as pd\n",
        "import numpy as np\n",
        "a=pd.read_csv(\"/content/calfornia dataset.zip\")\n",
        "print(a)"
      ]
    },
    {
      "cell_type": "code",
      "source": [
        "columns=['latitude','total_rooms','housing_median_age','total_bedrooms']\n",
        "m=a['latitude'].mean()\n",
        "print(\"mean of latitude:\",m)\n",
        "print(\"mean of total rooms:\",a['total_rooms'].mean())\n",
        "print(\"mean of housing median age:\",a['housing_median_age'].mean())\n",
        "print(\"mean of total bedrooms:\",a['total_bedrooms'].mean())"
      ],
      "metadata": {
        "colab": {
          "base_uri": "https://localhost:8080/"
        },
        "id": "Cp-HD1lnR65p",
        "outputId": "4fe33df9-b962-4469-aaaf-d7718e3a6fa2"
      },
      "execution_count": 10,
      "outputs": [
        {
          "output_type": "stream",
          "name": "stdout",
          "text": [
            "mean of latitude: 35.63186143410853\n",
            "mean of total rooms: 2635.7630813953488\n",
            "mean of housing median age: 28.639486434108527\n",
            "mean of total bedrooms: 537.8705525375618\n"
          ]
        }
      ]
    },
    {
      "cell_type": "code",
      "source": [
        "s1=a['latitude'].std()\n",
        "print(\"standard deviation total rooms:\",a['total_rooms'].std())\n",
        "print(\"standard deviation housing median age:\",a['housing_median_age'].std())\n",
        "print(\"standard deviation total bedrooms:\",a['total_bedrooms'].std())"
      ],
      "metadata": {
        "colab": {
          "base_uri": "https://localhost:8080/"
        },
        "id": "WZVVxpbET_Ik",
        "outputId": "ee0f5b69-8408-4166-ef75-fbabcd9cff32"
      },
      "execution_count": 11,
      "outputs": [
        {
          "output_type": "stream",
          "name": "stdout",
          "text": [
            "standard deviation total rooms: 2181.615251582795\n",
            "standard deviation housing median age: 12.58555761211165\n",
            "standard deviation total bedrooms: 421.3850700740323\n"
          ]
        }
      ]
    },
    {
      "cell_type": "markdown",
      "source": [
        "MAXIMUM LIKELIHOOD ESTIMATION"
      ],
      "metadata": {
        "id": "079FGxG9Uf5G"
      }
    },
    {
      "cell_type": "code",
      "source": [
        "x=np.mean(a['latitude'])\n",
        "print(\"maximum likelihood estimation of latitude:\")\n",
        "print(\"\")\n",
        "a['result']=(1/np.sqrt(2*np.pi*np.mean(a['latitude'])))*np.exp(-0.5*((a['latitude']-np.mean(a['latitude']))/np.std(a['latitude']))**2)\n"
      ],
      "metadata": {
        "colab": {
          "base_uri": "https://localhost:8080/"
        },
        "id": "NM_25JLqVyXu",
        "outputId": "e6cc46ea-f5d2-4b43-e219-25b615f5ec26"
      },
      "execution_count": 12,
      "outputs": [
        {
          "output_type": "stream",
          "name": "stdout",
          "text": [
            "maximum likelihood estimation of latitude:\n",
            "\n"
          ]
        }
      ]
    },
    {
      "cell_type": "code",
      "source": [
        "print(\"maximum likelihood estimation of house median age:\")\n",
        "a['result']=(1/np.sqrt(2*np.pi*np.mean(a['housing_median_age'])))*np.exp(-0.5*((a['housing_median_age']-np.mean(a['housing_median_age']))/np.std(a['housing_median_age']))**2)\n",
        "print(a[['housing_median_age','result']])"
      ],
      "metadata": {
        "colab": {
          "base_uri": "https://localhost:8080/"
        },
        "id": "IlYcw4v_MdaQ",
        "outputId": "947de672-c228-431c-dea8-bf0087429423"
      },
      "execution_count": 7,
      "outputs": [
        {
          "output_type": "stream",
          "name": "stdout",
          "text": [
            "maximum likelihood estimation of house median age:\n",
            "       housing_median_age    result\n",
            "0                    41.0  0.046022\n",
            "1                    21.0  0.062003\n",
            "2                    52.0  0.013313\n",
            "3                    52.0  0.013313\n",
            "4                    52.0  0.013313\n",
            "...                   ...       ...\n",
            "20635                25.0  0.071494\n",
            "20636                18.0  0.052148\n",
            "20637                17.0  0.048606\n",
            "20638                18.0  0.052148\n",
            "20639                16.0  0.045020\n",
            "\n",
            "[20640 rows x 2 columns]\n"
          ]
        }
      ]
    },
    {
      "cell_type": "code",
      "source": [
        "print(\"maximum likelihood estimation of total rooms\")\n",
        "a['result']=(1/np.sqrt(2*np.pi*np.mean(a['total_rooms']**2))*np.log(((x-np.std(a['total_rooms']))**2)/(2*np.mean(a['total_rooms']**2))))\n",
        "print(a[['total_rooms','result']])"
      ],
      "metadata": {
        "colab": {
          "base_uri": "https://localhost:8080/"
        },
        "id": "gTsX8mmqP2ni",
        "outputId": "7313c852-7bce-4569-cd2f-add79937e891"
      },
      "execution_count": 13,
      "outputs": [
        {
          "output_type": "stream",
          "name": "stdout",
          "text": [
            "maximum likelihood estimation of total rooms\n",
            "       total_rooms   result\n",
            "0            880.0 -0.00019\n",
            "1           7099.0 -0.00019\n",
            "2           1467.0 -0.00019\n",
            "3           1274.0 -0.00019\n",
            "4           1627.0 -0.00019\n",
            "...            ...      ...\n",
            "20635       1665.0 -0.00019\n",
            "20636        697.0 -0.00019\n",
            "20637       2254.0 -0.00019\n",
            "20638       1860.0 -0.00019\n",
            "20639       2785.0 -0.00019\n",
            "\n",
            "[20640 rows x 2 columns]\n"
          ]
        }
      ]
    },
    {
      "cell_type": "code",
      "source": [
        "print(\"maximum likelihood estimation of house median age\")\n",
        "a['result']=(1/np.sqrt(2*np.pi*np.mean(a['housing_median_age']**2))*np.log(((x-np.std(a['housing_median_age']))**2)/(2*np.mean(a['housing_median_age']**2))))\n",
        "print(a[['housing_median_age','result']])"
      ],
      "metadata": {
        "colab": {
          "base_uri": "https://localhost:8080/"
        },
        "id": "qR77uRBOWe-o",
        "outputId": "190e04b3-0c32-456b-c9f6-ca0a31829eb5"
      },
      "execution_count": 14,
      "outputs": [
        {
          "output_type": "stream",
          "name": "stdout",
          "text": [
            "maximum likelihood estimation of house median age\n",
            "       housing_median_age    result\n",
            "0                    41.0 -0.016633\n",
            "1                    21.0 -0.016633\n",
            "2                    52.0 -0.016633\n",
            "3                    52.0 -0.016633\n",
            "4                    52.0 -0.016633\n",
            "...                   ...       ...\n",
            "20635                25.0 -0.016633\n",
            "20636                18.0 -0.016633\n",
            "20637                17.0 -0.016633\n",
            "20638                18.0 -0.016633\n",
            "20639                16.0 -0.016633\n",
            "\n",
            "[20640 rows x 2 columns]\n"
          ]
        }
      ]
    },
    {
      "cell_type": "markdown",
      "source": [
        "question-2\n",
        "find log-likeihood values for 50,75,and 80.for california housing['latitude'] and find the max likelihood values\n"
      ],
      "metadata": {
        "id": "P3ChBs2QPCPj"
      }
    },
    {
      "cell_type": "code",
      "source": [
        "import numpy as np\n",
        "\n",
        "latitude = a['latitude']\n",
        "\n",
        "mean = np.mean(latitude)\n",
        "std = np.std(latitude)\n",
        "\n",
        "ll_50 = np.sum(np.log((1 / (np.sqrt(2 * np.pi) * std)) * np.exp(-0.5 * ((latitude - mean) / std)**2)))\n",
        "ll_75 = np.sum(np.log((1 / (np.sqrt(2 * np.pi) * std)) * np.exp(-0.5 * ((latitude - mean) / std)**2)))\n",
        "ll_80 = np.sum(np.log((1 / (np.sqrt(2 * np.pi) * std)) * np.exp(-0.5 * ((latitude - mean) / std)**2)))\n",
        "\n",
        "print(f\"Log-likelihood for 50: {ll_50}\")\n",
        "print(f\"Log-likelihood for 75: {ll_75}\")\n",
        "print(f\"Log-likelihood for 80: {ll_80}\")\n",
        "\n",
        "mle_mean = np.mean(latitude)\n",
        "print(f\"Maximum likelihood estimate for mean: {mle_mean}\")"
      ],
      "metadata": {
        "colab": {
          "base_uri": "https://localhost:8080/"
        },
        "id": "SKm9J-azW2Vi",
        "outputId": "f599d5c7-17a0-4a14-84b4-dd59f7934398"
      },
      "execution_count": 15,
      "outputs": [
        {
          "output_type": "stream",
          "name": "stdout",
          "text": [
            "Log-likelihood for 50: -44950.34809993984\n",
            "Log-likelihood for 75: -44950.34809993984\n",
            "Log-likelihood for 80: -44950.34809993984\n",
            "Maximum likelihood estimate for mean: 35.63186143410853\n"
          ]
        }
      ]
    },
    {
      "cell_type": "markdown",
      "source": [
        "question-3\n",
        "Estimate the density of each column of california_housing [‘latitude’,total_rooms’,’house_median_age’,’total_bedrooms’] data, For the bins [5, 10, 15, 20]. And write the observations."
      ],
      "metadata": {
        "id": "oxZV_tm4aO-z"
      }
    },
    {
      "cell_type": "code",
      "source": [
        "import pandas as pd\n",
        "import matplotlib.pyplot as plt\n",
        "\n",
        "plt.hist(a['latitude'], bins=5, density=True)\n",
        "plt.title(\"Density of latitude with 5 bins\")\n",
        "plt.xlabel(\"latitude\")\n",
        "plt.ylabel(\"Density\")\n",
        "plt.show()"
      ],
      "metadata": {
        "colab": {
          "base_uri": "https://localhost:8080/",
          "height": 472
        },
        "id": "ucxAGjN-Y83a",
        "outputId": "94fff185-6dc3-44d8-ad22-b4bb4729cef5"
      },
      "execution_count": 17,
      "outputs": [
        {
          "output_type": "display_data",
          "data": {
            "text/plain": [
              "<Figure size 640x480 with 1 Axes>"
            ],
            "image/png": "[encoded data removed]"
          },
          "metadata": {}
        }
      ]
    },
    {
      "cell_type": "code",
      "source": [
        "import pandas as pd\n",
        "import matplotlib.pyplot as plt\n",
        "\n",
        "plt.hist(a['latitude'], bins=10, density=True)\n",
        "plt.title(\"Density of latitude with 10 bins\")\n",
        "plt.xlabel(\"latitude\")\n",
        "plt.ylabel(\"Density\")\n",
        "plt.show()"
      ],
      "metadata": {
        "colab": {
          "base_uri": "https://localhost:8080/",
          "height": 472
        },
        "id": "vTNheNoDZ3RQ",
        "outputId": "78365449-95f0-4111-c928-12517e499e1d"
      },
      "execution_count": 18,
      "outputs": [
        {
          "output_type": "display_data",
          "data": {
            "text/plain": [
              "<Figure size 640x480 with 1 Axes>"
            ],
            "image/png": "[encoded data removed]"
          },
          "metadata": {}
        }
      ]
    },
    {
      "cell_type": "code",
      "source": [
        "import pandas as pd\n",
        "import matplotlib.pyplot as plt\n",
        "\n",
        "plt.hist(a['latitude'], bins=15, density=True)\n",
        "plt.title(\"Density of latitude with 15 bins\")\n",
        "plt.xlabel(\"latitude\")\n",
        "plt.ylabel(\"Density\")\n",
        "plt.show()"
      ],
      "metadata": {
        "colab": {
          "base_uri": "https://localhost:8080/",
          "height": 472
        },
        "id": "mfvaVoYwZ6bh",
        "outputId": "dd5460b2-bb6b-48cf-f5cc-94a5f921fc0d"
      },
      "execution_count": 19,
      "outputs": [
        {
          "output_type": "display_data",
          "data": {
            "text/plain": [
              "<Figure size 640x480 with 1 Axes>"
            ],
            "image/png": "[encoded data removed]"
          },
          "metadata": {}
        }
      ]
    },
    {
      "cell_type": "code",
      "source": [
        "import pandas as pd\n",
        "import matplotlib.pyplot as plt\n",
        "\n",
        "plt.hist(a['latitude'], bins=20, density=True)\n",
        "plt.title(\"Density of latitude with 20 bins\")\n",
        "plt.xlabel(\"latitude\")\n",
        "plt.ylabel(\"Density\")\n",
        "plt.show()"
      ],
      "metadata": {
        "colab": {
          "base_uri": "https://localhost:8080/",
          "height": 472
        },
        "id": "GZVKkfgXZ_XF",
        "outputId": "5c0d4752-f553-462d-e324-55de11fad3bd"
      },
      "execution_count": 20,
      "outputs": [
        {
          "output_type": "display_data",
          "data": {
            "text/plain": [
              "<Figure size 640x480 with 1 Axes>"
            ],
            "image/png": "[encoded data removed]"
          },
          "metadata": {}
        }
      ]
    }
  ]
}